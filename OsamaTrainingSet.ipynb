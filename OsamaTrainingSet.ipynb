{
 "cells": [
  {
   "cell_type": "code",
   "execution_count": 1,
   "metadata": {},
   "outputs": [],
   "source": [
    "import pandas as pd\n",
    "import os\n",
    "import shutil"
   ]
  },
  {
   "cell_type": "code",
   "execution_count": 2,
   "metadata": {},
   "outputs": [],
   "source": [
    "attributeDF = pd.read_csv('tablelamps_basematerial.csv')\n",
    "allDF = pd.read_csv('alltablelamps.csv')"
   ]
  },
  {
   "cell_type": "code",
   "execution_count": 3,
   "metadata": {},
   "outputs": [
    {
     "name": "stdout",
     "output_type": "stream",
     "text": [
      "9998\n"
     ]
    }
   ],
   "source": [
    "#we want to keep only the attributes that we also have an image of\n",
    "\n",
    "#in these two cells I want to get the IDs of items in each of the folders (product + cropped)\n",
    "images_path = 'TableLampsProductImages'\n",
    "image_extensions = ['.jpg', '.png', '.jpeg']\n",
    "images = [os.path.join(dp, f) for dp, dn, filenames in os.walk(images_path)\n",
    "         for f in filenames if os.path.splitext(f)[1].lower() in image_extensions]\n",
    "productIDs = [image.split('.')[0].split('/')[-1] for image in images]\n",
    "print(len(productIDs))"
   ]
  },
  {
   "cell_type": "code",
   "execution_count": 4,
   "metadata": {},
   "outputs": [
    {
     "name": "stdout",
     "output_type": "stream",
     "text": [
      "4290\n"
     ]
    }
   ],
   "source": [
    "print(len(set(productIDs)))"
   ]
  },
  {
   "cell_type": "code",
   "execution_count": 5,
   "metadata": {},
   "outputs": [
    {
     "name": "stdout",
     "output_type": "stream",
     "text": [
      "839\n"
     ]
    }
   ],
   "source": [
    "croppedImages = []\n",
    "for dp, dn, filenames in os.walk('TableLampsCropped'):\n",
    "    for f in filenames:\n",
    "        croppedImages.append(f)\n",
    "croppedIDs = [image.split('.')[0] for image in croppedImages]\n",
    "print(len(croppedIDs))"
   ]
  },
  {
   "cell_type": "code",
   "execution_count": 6,
   "metadata": {},
   "outputs": [],
   "source": [
    "#we combine the product and cropped ids and remove duplicates so we have a baseline for what we need\n",
    "allIDs = croppedIDs + productIDs\n",
    "allIDs = list(set(allIDs))\n",
    "allIDs = [int(item) for item in allIDs if item != '']"
   ]
  },
  {
   "cell_type": "code",
   "execution_count": 7,
   "metadata": {},
   "outputs": [
    {
     "data": {
      "text/plain": [
       "4301"
      ]
     },
     "execution_count": 7,
     "metadata": {},
     "output_type": "execute_result"
    }
   ],
   "source": [
    "len(allIDs)"
   ]
  },
  {
   "cell_type": "code",
   "execution_count": 8,
   "metadata": {},
   "outputs": [
    {
     "name": "stdout",
     "output_type": "stream",
     "text": [
      "(10151, 11)\n",
      "(4198, 3)\n"
     ]
    }
   ],
   "source": [
    "print(allDF.loc[allDF['OMS_SKU'].isin(allIDs)].shape)\n",
    "print(attributeDF.loc[attributeDF['omsid'].isin(allIDs)].shape)"
   ]
  },
  {
   "cell_type": "code",
   "execution_count": 9,
   "metadata": {},
   "outputs": [
    {
     "data": {
      "text/plain": [
       "4198"
      ]
     },
     "execution_count": 9,
     "metadata": {},
     "output_type": "execute_result"
    }
   ],
   "source": [
    "#the finalID are all of the ids of items in the attribute csv that we have images of\n",
    "finalattributeDF = attributeDF.loc[attributeDF['omsid'].isin(allIDs)]\n",
    "finalIDs = []\n",
    "for i,row in enumerate(finalattributeDF.itertuples()):\n",
    "    finalIDs.append(row.omsid)\n",
    "len(finalIDs)"
   ]
  },
  {
   "cell_type": "code",
   "execution_count": 10,
   "metadata": {},
   "outputs": [
    {
     "data": {
      "text/plain": [
       "(4376, 11)"
      ]
     },
     "execution_count": 10,
     "metadata": {},
     "output_type": "execute_result"
    }
   ],
   "source": [
    "#we then use finalIDs to filter the original DF.\n",
    "allDF['cc'] = allDF.groupby(['OMS_SKU']).cumcount()\n",
    "allDF = allDF.loc[allDF['cc']==0]\n",
    "allDF = allDF.drop(['cc'],axis=1)\n",
    "allDF.shape"
   ]
  },
  {
   "cell_type": "code",
   "execution_count": 11,
   "metadata": {},
   "outputs": [],
   "source": [
    "#export to redownload the product images for basecolor\n",
    "allDF = allDF.loc[allDF['OMS_SKU'].isin(finalIDs)]\n",
    "allDF.to_csv('TablelampRedownloadBaseMaterial.csv',index=False)"
   ]
  },
  {
   "cell_type": "code",
   "execution_count": 12,
   "metadata": {},
   "outputs": [
    {
     "data": {
      "text/plain": [
       "(4175, 11)"
      ]
     },
     "execution_count": 12,
     "metadata": {},
     "output_type": "execute_result"
    }
   ],
   "source": [
    "allDF.shape"
   ]
  },
  {
   "cell_type": "code",
   "execution_count": 13,
   "metadata": {},
   "outputs": [
    {
     "name": "stdout",
     "output_type": "stream",
     "text": [
      "4175\n"
     ]
    }
   ],
   "source": [
    "#After redownloading the images, we create ANOTHER finalIDs list because there were some ids that were not included\n",
    "images_path = 'TableLampsBaseMaterialProductImages'\n",
    "image_extensions = ['.jpg', '.png', '.jpeg']\n",
    "images = [os.path.join(dp, f) for dp, dn, filenames in os.walk(images_path)\n",
    "         for f in filenames if os.path.splitext(f)[1].lower() in image_extensions]\n",
    "productIDs = [image.split('.')[0].split('/')[-1] for image in images]\n",
    "print(len(productIDs))"
   ]
  },
  {
   "cell_type": "code",
   "execution_count": 14,
   "metadata": {},
   "outputs": [
    {
     "name": "stdout",
     "output_type": "stream",
     "text": [
      "4179\n"
     ]
    }
   ],
   "source": [
    "allIDs = croppedIDs + productIDs\n",
    "allIDs = list(set(allIDs))\n",
    "allIDs = [int(item) for item in allIDs if item != '']\n",
    "print(len(allIDs))"
   ]
  },
  {
   "cell_type": "code",
   "execution_count": 15,
   "metadata": {},
   "outputs": [
    {
     "data": {
      "text/plain": [
       "(4179, 3)"
      ]
     },
     "execution_count": 15,
     "metadata": {},
     "output_type": "execute_result"
    }
   ],
   "source": [
    "#verify this\n",
    "attributeDF.loc[attributeDF['omsid'].isin(allIDs)].shape"
   ]
  },
  {
   "cell_type": "code",
   "execution_count": 137,
   "metadata": {},
   "outputs": [
    {
     "data": {
      "text/plain": [
       "3766"
      ]
     },
     "execution_count": 137,
     "metadata": {},
     "output_type": "execute_result"
    }
   ],
   "source": [
    "#lastly we want only the cropped images that also have an attribute\n",
    "finalatDF = attributeDF.loc[attributeDF['omsid'].isin(allIDs)]\n",
    "finalIDs = []\n",
    "for i,row in enumerate(finalatDF.itertuples()):\n",
    "    finalIDs.append(row.omsid)\n",
    "len(finalIDs)"
   ]
  },
  {
   "cell_type": "code",
   "execution_count": 142,
   "metadata": {},
   "outputs": [
    {
     "data": {
      "text/plain": [
       "int"
      ]
     },
     "execution_count": 142,
     "metadata": {},
     "output_type": "execute_result"
    }
   ],
   "source": [
    "type(finalIDs[0])"
   ]
  },
  {
   "cell_type": "code",
   "execution_count": 16,
   "metadata": {},
   "outputs": [
    {
     "name": "stdout",
     "output_type": "stream",
     "text": [
      "839\n",
      "838\n",
      "838\n"
     ]
    }
   ],
   "source": [
    "#want the cropped IDs that are in the finalIDs\n",
    "print(len(croppedIDs))\n",
    "croppedIDs = [int(ID) for ID in croppedIDs if ID != '']\n",
    "print(len(croppedIDs))\n",
    "newcroppedIDs = [ID for ID in croppedIDs if ID in finalIDs]\n",
    "print(len(newcroppedIDs))"
   ]
  },
  {
   "cell_type": "code",
   "execution_count": 148,
   "metadata": {},
   "outputs": [
    {
     "name": "stdout",
     "output_type": "stream",
     "text": [
      "816\n",
      "TableLampsCropped/304030807.jpg\n"
     ]
    }
   ],
   "source": [
    "#with newcroppedIDS you want to keep all of the cropped images that are in this list\n",
    "ls = []\n",
    "newcroppedpath = 'TableLampsShadeShapeCropped'\n",
    "for dp, dn, filenames in os.walk('TableLampsCropped'):\n",
    "    for f in filenames:\n",
    "        if (f.split('.')[0]) != '':\n",
    "            if int(f.split('.')[0]) in newcroppedIDs:\n",
    "                ls.append(os.path.join(dp,f))\n",
    "print(len(ls))\n",
    "print(ls[0])\n",
    "if not os.path.isdir(newcroppedpath):\n",
    "    os.makedirs(newcroppedpath)\n",
    "\n",
    "for i,item in enumerate(ls):\n",
    "    shutil.copy(item, newcroppedpath + '/' + item.split('/')[-1])"
   ]
  },
  {
   "cell_type": "code",
   "execution_count": 156,
   "metadata": {},
   "outputs": [
    {
     "name": "stdout",
     "output_type": "stream",
     "text": [
      "3766\n"
     ]
    }
   ],
   "source": [
    "#verify one last time\n",
    "productIDs = [int(item) for item in productIDs]\n",
    "allIDs = newcroppedIDs + productIDs\n",
    "allIDs = list(set(allIDs))\n",
    "allIDs = [int(item) for item in allIDs if item != '']\n",
    "print(len(allIDs))"
   ]
  },
  {
   "cell_type": "code",
   "execution_count": 17,
   "metadata": {},
   "outputs": [],
   "source": [
    "attributeDF.loc[attributeDF['omsid'].isin(allIDs)].to_csv('finaltablelamps_basematerial.csv',index=False)"
   ]
  },
  {
   "cell_type": "code",
   "execution_count": 157,
   "metadata": {},
   "outputs": [
    {
     "data": {
      "text/plain": [
       "(3766, 3)"
      ]
     },
     "execution_count": 157,
     "metadata": {},
     "output_type": "execute_result"
    }
   ],
   "source": [
    "attributeDF.loc[attributeDF['omsid'].isin(allIDs)].shape"
   ]
  },
  {
   "cell_type": "code",
   "execution_count": null,
   "metadata": {},
   "outputs": [],
   "source": []
  }
 ],
 "metadata": {
  "kernelspec": {
   "display_name": "Python 3",
   "language": "python",
   "name": "python3"
  },
  "language_info": {
   "codemirror_mode": {
    "name": "ipython",
    "version": 3
   },
   "file_extension": ".py",
   "mimetype": "text/x-python",
   "name": "python",
   "nbconvert_exporter": "python",
   "pygments_lexer": "ipython3",
   "version": "3.7.1"
  }
 },
 "nbformat": 4,
 "nbformat_minor": 2
}
